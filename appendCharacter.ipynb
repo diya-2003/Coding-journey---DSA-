{
 "cells": [
  {
   "cell_type": "markdown",
   "metadata": {},
   "source": [
    "# Intuition\n",
    "The problem seems to involve determining the minimum number of characters that need to be appended to string `s` to form string `t`. This suggests a need to find the longest prefix of `t` that can be found as a subsequence in `s`.\n",
    "\n",
    "# Approach\n",
    "1. Traverse both strings `s` and `t`.\n",
    "2. Use two pointers: one for `s` and one for `t`.\n",
    "3. If characters in `s` and `t` match, move both pointers. If they do not match, move only the pointer in `s`.\n",
    "4. Count how many characters from `t` are matched within `s`.\n",
    "5. The result is the number of characters in `t` that were not matched (i.e., `length of t` - `number of matched characters`).\n",
    "\n",
    "# Complexity\n",
    "- Time complexity:\n",
    "  The time complexity is \\(O(n + m)\\) where \\(n\\) is the length of `s` and \\(m\\) is the length of `t` because we are traversing both strings only once.\n",
    "\n",
    "- Space complexity:\n",
    "  The space complexity is \\(O(1)\\) as we are only using a fixed amount of additional space for pointers and counters.\n",
    "\n"
   ]
  },
  {
   "cell_type": "markdown",
   "metadata": {},
   "source": [
    "# Code\n",
    "```c\n",
    "#include <stdio.h>\n",
    "#include <string.h>\n",
    "#define MAX 100\n",
    "\n",
    "int appendCharacter(char *s, char *t) {\n",
    "    int j = 0, lent = strlen(t);\n",
    "    for (int i = 0; i < strlen(s) && j < lent; i++) {\n",
    "        if (s[i] == t[j]) {\n",
    "            j++;\n",
    "        }\n",
    "    }\n",
    "    return lent - j;\n",
    "}\n",
    "\n",
    "int main() {\n",
    "    char s[MAX], t[MAX];\n",
    "    printf(\"Enter the first string: \");\n",
    "    scanf(\"%s\", s); \n",
    "    printf(\"Enter the second string: \");\n",
    "    scanf(\"%s\", t);\n",
    "    printf(\"Output: %d\\n\", appendCharacter(s, t));\n",
    "    return 0;\n",
    "}\n",
    "```\n",
    "\n"
   ]
  },
  {
   "cell_type": "markdown",
   "metadata": {},
   "source": [
    "This code reads two strings `s` and `t` from the user, then calculates the number of characters that need to be appended to `s` to form `t` by finding the longest prefix of `t` that is a subsequence in `s`."
   ]
  },
  {
   "cell_type": "code",
   "execution_count": null,
   "metadata": {},
   "outputs": [],
   "source": []
  }
 ],
 "metadata": {
  "kernelspec": {
   "display_name": "Python 3",
   "language": "python",
   "name": "python3"
  },
  "language_info": {
   "codemirror_mode": {
    "name": "ipython",
    "version": 3
   },
   "file_extension": ".py",
   "mimetype": "text/x-python",
   "name": "python",
   "nbconvert_exporter": "python",
   "pygments_lexer": "ipython3",
   "version": "3.7.3"
  }
 },
 "nbformat": 4,
 "nbformat_minor": 2
}
